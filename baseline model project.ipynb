{
 "cells": [
  {
   "cell_type": "code",
   "execution_count": 1,
   "id": "8c7134cc",
   "metadata": {},
   "outputs": [],
   "source": [
    "import pandas as pd \n",
    "import numpy as np\n",
    "import matplotlib.pyplot as plt\n",
    "import seaborn as sns\n",
    "\n",
    "import warnings\n",
    "warnings.filterwarnings('ignore')"
   ]
  },
  {
   "cell_type": "code",
   "execution_count": 2,
   "id": "ca399e4b",
   "metadata": {},
   "outputs": [
    {
     "data": {
      "text/html": [
       "<div>\n",
       "<style scoped>\n",
       "    .dataframe tbody tr th:only-of-type {\n",
       "        vertical-align: middle;\n",
       "    }\n",
       "\n",
       "    .dataframe tbody tr th {\n",
       "        vertical-align: top;\n",
       "    }\n",
       "\n",
       "    .dataframe thead th {\n",
       "        text-align: right;\n",
       "    }\n",
       "</style>\n",
       "<table border=\"1\" class=\"dataframe\">\n",
       "  <thead>\n",
       "    <tr style=\"text-align: right;\">\n",
       "      <th></th>\n",
       "      <th>General_Health</th>\n",
       "      <th>Checkup</th>\n",
       "      <th>Exercise</th>\n",
       "      <th>Heart_Disease</th>\n",
       "      <th>Skin_Cancer</th>\n",
       "      <th>Other_Cancer</th>\n",
       "      <th>Depression</th>\n",
       "      <th>Diabetes</th>\n",
       "      <th>Arthritis</th>\n",
       "      <th>Sex</th>\n",
       "      <th>Age_Category</th>\n",
       "      <th>Height_(cm)</th>\n",
       "      <th>Weight_(kg)</th>\n",
       "      <th>BMI</th>\n",
       "      <th>Smoking_History</th>\n",
       "      <th>Alcohol_Consumption</th>\n",
       "      <th>Fruit_Consumption</th>\n",
       "      <th>Green_Vegetables_Consumption</th>\n",
       "      <th>FriedPotato_Consumption</th>\n",
       "    </tr>\n",
       "  </thead>\n",
       "  <tbody>\n",
       "    <tr>\n",
       "      <th>0</th>\n",
       "      <td>Poor</td>\n",
       "      <td>Within the past 2 years</td>\n",
       "      <td>No</td>\n",
       "      <td>No</td>\n",
       "      <td>No</td>\n",
       "      <td>No</td>\n",
       "      <td>No</td>\n",
       "      <td>No</td>\n",
       "      <td>Yes</td>\n",
       "      <td>Female</td>\n",
       "      <td>70-74</td>\n",
       "      <td>150.0</td>\n",
       "      <td>32.66</td>\n",
       "      <td>14.54</td>\n",
       "      <td>Yes</td>\n",
       "      <td>0.0</td>\n",
       "      <td>30.0</td>\n",
       "      <td>16.0</td>\n",
       "      <td>12.0</td>\n",
       "    </tr>\n",
       "    <tr>\n",
       "      <th>1</th>\n",
       "      <td>Very Good</td>\n",
       "      <td>Within the past year</td>\n",
       "      <td>No</td>\n",
       "      <td>Yes</td>\n",
       "      <td>No</td>\n",
       "      <td>No</td>\n",
       "      <td>No</td>\n",
       "      <td>Yes</td>\n",
       "      <td>No</td>\n",
       "      <td>Female</td>\n",
       "      <td>70-74</td>\n",
       "      <td>165.0</td>\n",
       "      <td>77.11</td>\n",
       "      <td>28.29</td>\n",
       "      <td>No</td>\n",
       "      <td>0.0</td>\n",
       "      <td>30.0</td>\n",
       "      <td>0.0</td>\n",
       "      <td>4.0</td>\n",
       "    </tr>\n",
       "    <tr>\n",
       "      <th>2</th>\n",
       "      <td>Very Good</td>\n",
       "      <td>Within the past year</td>\n",
       "      <td>Yes</td>\n",
       "      <td>No</td>\n",
       "      <td>No</td>\n",
       "      <td>No</td>\n",
       "      <td>No</td>\n",
       "      <td>Yes</td>\n",
       "      <td>No</td>\n",
       "      <td>Female</td>\n",
       "      <td>60-64</td>\n",
       "      <td>163.0</td>\n",
       "      <td>88.45</td>\n",
       "      <td>33.47</td>\n",
       "      <td>No</td>\n",
       "      <td>4.0</td>\n",
       "      <td>12.0</td>\n",
       "      <td>3.0</td>\n",
       "      <td>16.0</td>\n",
       "    </tr>\n",
       "    <tr>\n",
       "      <th>3</th>\n",
       "      <td>Poor</td>\n",
       "      <td>Within the past year</td>\n",
       "      <td>Yes</td>\n",
       "      <td>Yes</td>\n",
       "      <td>No</td>\n",
       "      <td>No</td>\n",
       "      <td>No</td>\n",
       "      <td>Yes</td>\n",
       "      <td>No</td>\n",
       "      <td>Male</td>\n",
       "      <td>75-79</td>\n",
       "      <td>180.0</td>\n",
       "      <td>93.44</td>\n",
       "      <td>28.73</td>\n",
       "      <td>No</td>\n",
       "      <td>0.0</td>\n",
       "      <td>30.0</td>\n",
       "      <td>30.0</td>\n",
       "      <td>8.0</td>\n",
       "    </tr>\n",
       "    <tr>\n",
       "      <th>4</th>\n",
       "      <td>Good</td>\n",
       "      <td>Within the past year</td>\n",
       "      <td>No</td>\n",
       "      <td>No</td>\n",
       "      <td>No</td>\n",
       "      <td>No</td>\n",
       "      <td>No</td>\n",
       "      <td>No</td>\n",
       "      <td>No</td>\n",
       "      <td>Male</td>\n",
       "      <td>80+</td>\n",
       "      <td>191.0</td>\n",
       "      <td>88.45</td>\n",
       "      <td>24.37</td>\n",
       "      <td>Yes</td>\n",
       "      <td>0.0</td>\n",
       "      <td>8.0</td>\n",
       "      <td>4.0</td>\n",
       "      <td>0.0</td>\n",
       "    </tr>\n",
       "    <tr>\n",
       "      <th>...</th>\n",
       "      <td>...</td>\n",
       "      <td>...</td>\n",
       "      <td>...</td>\n",
       "      <td>...</td>\n",
       "      <td>...</td>\n",
       "      <td>...</td>\n",
       "      <td>...</td>\n",
       "      <td>...</td>\n",
       "      <td>...</td>\n",
       "      <td>...</td>\n",
       "      <td>...</td>\n",
       "      <td>...</td>\n",
       "      <td>...</td>\n",
       "      <td>...</td>\n",
       "      <td>...</td>\n",
       "      <td>...</td>\n",
       "      <td>...</td>\n",
       "      <td>...</td>\n",
       "      <td>...</td>\n",
       "    </tr>\n",
       "    <tr>\n",
       "      <th>308849</th>\n",
       "      <td>Very Good</td>\n",
       "      <td>Within the past year</td>\n",
       "      <td>Yes</td>\n",
       "      <td>No</td>\n",
       "      <td>No</td>\n",
       "      <td>No</td>\n",
       "      <td>No</td>\n",
       "      <td>No</td>\n",
       "      <td>No</td>\n",
       "      <td>Male</td>\n",
       "      <td>25-29</td>\n",
       "      <td>168.0</td>\n",
       "      <td>81.65</td>\n",
       "      <td>29.05</td>\n",
       "      <td>No</td>\n",
       "      <td>4.0</td>\n",
       "      <td>30.0</td>\n",
       "      <td>8.0</td>\n",
       "      <td>0.0</td>\n",
       "    </tr>\n",
       "    <tr>\n",
       "      <th>308850</th>\n",
       "      <td>Fair</td>\n",
       "      <td>Within the past 5 years</td>\n",
       "      <td>Yes</td>\n",
       "      <td>No</td>\n",
       "      <td>No</td>\n",
       "      <td>No</td>\n",
       "      <td>No</td>\n",
       "      <td>Yes</td>\n",
       "      <td>No</td>\n",
       "      <td>Male</td>\n",
       "      <td>65-69</td>\n",
       "      <td>180.0</td>\n",
       "      <td>69.85</td>\n",
       "      <td>21.48</td>\n",
       "      <td>No</td>\n",
       "      <td>8.0</td>\n",
       "      <td>15.0</td>\n",
       "      <td>60.0</td>\n",
       "      <td>4.0</td>\n",
       "    </tr>\n",
       "    <tr>\n",
       "      <th>308851</th>\n",
       "      <td>Very Good</td>\n",
       "      <td>5 or more years ago</td>\n",
       "      <td>Yes</td>\n",
       "      <td>No</td>\n",
       "      <td>No</td>\n",
       "      <td>No</td>\n",
       "      <td>Yes</td>\n",
       "      <td>Yes, but female told only during pregnancy</td>\n",
       "      <td>No</td>\n",
       "      <td>Female</td>\n",
       "      <td>30-34</td>\n",
       "      <td>157.0</td>\n",
       "      <td>61.23</td>\n",
       "      <td>24.69</td>\n",
       "      <td>Yes</td>\n",
       "      <td>4.0</td>\n",
       "      <td>40.0</td>\n",
       "      <td>8.0</td>\n",
       "      <td>4.0</td>\n",
       "    </tr>\n",
       "    <tr>\n",
       "      <th>308852</th>\n",
       "      <td>Very Good</td>\n",
       "      <td>Within the past year</td>\n",
       "      <td>Yes</td>\n",
       "      <td>No</td>\n",
       "      <td>No</td>\n",
       "      <td>No</td>\n",
       "      <td>No</td>\n",
       "      <td>No</td>\n",
       "      <td>No</td>\n",
       "      <td>Male</td>\n",
       "      <td>65-69</td>\n",
       "      <td>183.0</td>\n",
       "      <td>79.38</td>\n",
       "      <td>23.73</td>\n",
       "      <td>No</td>\n",
       "      <td>3.0</td>\n",
       "      <td>30.0</td>\n",
       "      <td>12.0</td>\n",
       "      <td>0.0</td>\n",
       "    </tr>\n",
       "    <tr>\n",
       "      <th>308853</th>\n",
       "      <td>Excellent</td>\n",
       "      <td>Within the past year</td>\n",
       "      <td>Yes</td>\n",
       "      <td>No</td>\n",
       "      <td>No</td>\n",
       "      <td>No</td>\n",
       "      <td>No</td>\n",
       "      <td>No</td>\n",
       "      <td>No</td>\n",
       "      <td>Female</td>\n",
       "      <td>45-49</td>\n",
       "      <td>160.0</td>\n",
       "      <td>81.19</td>\n",
       "      <td>31.71</td>\n",
       "      <td>No</td>\n",
       "      <td>1.0</td>\n",
       "      <td>5.0</td>\n",
       "      <td>12.0</td>\n",
       "      <td>1.0</td>\n",
       "    </tr>\n",
       "  </tbody>\n",
       "</table>\n",
       "<p>308854 rows × 19 columns</p>\n",
       "</div>"
      ],
      "text/plain": [
       "       General_Health                  Checkup Exercise Heart_Disease  \\\n",
       "0                Poor  Within the past 2 years       No            No   \n",
       "1           Very Good     Within the past year       No           Yes   \n",
       "2           Very Good     Within the past year      Yes            No   \n",
       "3                Poor     Within the past year      Yes           Yes   \n",
       "4                Good     Within the past year       No            No   \n",
       "...               ...                      ...      ...           ...   \n",
       "308849      Very Good     Within the past year      Yes            No   \n",
       "308850           Fair  Within the past 5 years      Yes            No   \n",
       "308851      Very Good      5 or more years ago      Yes            No   \n",
       "308852      Very Good     Within the past year      Yes            No   \n",
       "308853      Excellent     Within the past year      Yes            No   \n",
       "\n",
       "       Skin_Cancer Other_Cancer Depression  \\\n",
       "0               No           No         No   \n",
       "1               No           No         No   \n",
       "2               No           No         No   \n",
       "3               No           No         No   \n",
       "4               No           No         No   \n",
       "...            ...          ...        ...   \n",
       "308849          No           No         No   \n",
       "308850          No           No         No   \n",
       "308851          No           No        Yes   \n",
       "308852          No           No         No   \n",
       "308853          No           No         No   \n",
       "\n",
       "                                          Diabetes Arthritis     Sex  \\\n",
       "0                                               No       Yes  Female   \n",
       "1                                              Yes        No  Female   \n",
       "2                                              Yes        No  Female   \n",
       "3                                              Yes        No    Male   \n",
       "4                                               No        No    Male   \n",
       "...                                            ...       ...     ...   \n",
       "308849                                          No        No    Male   \n",
       "308850                                         Yes        No    Male   \n",
       "308851  Yes, but female told only during pregnancy        No  Female   \n",
       "308852                                          No        No    Male   \n",
       "308853                                          No        No  Female   \n",
       "\n",
       "       Age_Category  Height_(cm)  Weight_(kg)    BMI Smoking_History  \\\n",
       "0             70-74        150.0        32.66  14.54             Yes   \n",
       "1             70-74        165.0        77.11  28.29              No   \n",
       "2             60-64        163.0        88.45  33.47              No   \n",
       "3             75-79        180.0        93.44  28.73              No   \n",
       "4               80+        191.0        88.45  24.37             Yes   \n",
       "...             ...          ...          ...    ...             ...   \n",
       "308849        25-29        168.0        81.65  29.05              No   \n",
       "308850        65-69        180.0        69.85  21.48              No   \n",
       "308851        30-34        157.0        61.23  24.69             Yes   \n",
       "308852        65-69        183.0        79.38  23.73              No   \n",
       "308853        45-49        160.0        81.19  31.71              No   \n",
       "\n",
       "        Alcohol_Consumption  Fruit_Consumption  Green_Vegetables_Consumption  \\\n",
       "0                       0.0               30.0                          16.0   \n",
       "1                       0.0               30.0                           0.0   \n",
       "2                       4.0               12.0                           3.0   \n",
       "3                       0.0               30.0                          30.0   \n",
       "4                       0.0                8.0                           4.0   \n",
       "...                     ...                ...                           ...   \n",
       "308849                  4.0               30.0                           8.0   \n",
       "308850                  8.0               15.0                          60.0   \n",
       "308851                  4.0               40.0                           8.0   \n",
       "308852                  3.0               30.0                          12.0   \n",
       "308853                  1.0                5.0                          12.0   \n",
       "\n",
       "        FriedPotato_Consumption  \n",
       "0                          12.0  \n",
       "1                           4.0  \n",
       "2                          16.0  \n",
       "3                           8.0  \n",
       "4                           0.0  \n",
       "...                         ...  \n",
       "308849                      0.0  \n",
       "308850                      4.0  \n",
       "308851                      4.0  \n",
       "308852                      0.0  \n",
       "308853                      1.0  \n",
       "\n",
       "[308854 rows x 19 columns]"
      ]
     },
     "execution_count": 2,
     "metadata": {},
     "output_type": "execute_result"
    }
   ],
   "source": [
    "data = pd.read_csv('CVD_cleaned.CSV')\n",
    "data"
   ]
  },
  {
   "cell_type": "code",
   "execution_count": 3,
   "id": "e5dada3f",
   "metadata": {},
   "outputs": [],
   "source": [
    "df = data[~data.duplicated(keep = False)]"
   ]
  },
  {
   "cell_type": "code",
   "execution_count": 4,
   "id": "3a4d3050",
   "metadata": {},
   "outputs": [
    {
     "data": {
      "text/plain": [
       "General_Health                  0\n",
       "Checkup                         0\n",
       "Exercise                        0\n",
       "Heart_Disease                   0\n",
       "Skin_Cancer                     0\n",
       "Other_Cancer                    0\n",
       "Depression                      0\n",
       "Diabetes                        0\n",
       "Arthritis                       0\n",
       "Sex                             0\n",
       "Age_Category                    0\n",
       "Height_(cm)                     0\n",
       "Weight_(kg)                     0\n",
       "BMI                             0\n",
       "Smoking_History                 0\n",
       "Alcohol_Consumption             0\n",
       "Fruit_Consumption               0\n",
       "Green_Vegetables_Consumption    0\n",
       "FriedPotato_Consumption         0\n",
       "dtype: int64"
      ]
     },
     "execution_count": 4,
     "metadata": {},
     "output_type": "execute_result"
    }
   ],
   "source": [
    "df.isnull().sum()"
   ]
  },
  {
   "cell_type": "code",
   "execution_count": null,
   "id": "a08add49",
   "metadata": {},
   "outputs": [],
   "source": []
  },
  {
   "cell_type": "markdown",
   "id": "ee636430",
   "metadata": {},
   "source": [
    "## data preparation "
   ]
  },
  {
   "cell_type": "code",
   "execution_count": 4,
   "id": "ca782e17",
   "metadata": {},
   "outputs": [],
   "source": [
    "mapp = {\n",
    "    \"Yes\": 1,\n",
    "    \"No\" : 0\n",
    "}\n"
   ]
  },
  {
   "cell_type": "code",
   "execution_count": 5,
   "id": "82909827",
   "metadata": {},
   "outputs": [],
   "source": [
    "df[\"Heart_Disease\"] = df[\"Heart_Disease\"].map(mapp)"
   ]
  },
  {
   "cell_type": "code",
   "execution_count": 6,
   "id": "ea2ec5ad",
   "metadata": {},
   "outputs": [
    {
     "name": "stdout",
     "output_type": "stream",
     "text": [
      "<class 'pandas.core.frame.DataFrame'>\n",
      "Int64Index: 308695 entries, 0 to 308853\n",
      "Data columns (total 8 columns):\n",
      " #   Column                        Non-Null Count   Dtype  \n",
      "---  ------                        --------------   -----  \n",
      " 0   Heart_Disease                 308695 non-null  int64  \n",
      " 1   Height_(cm)                   308695 non-null  float64\n",
      " 2   Weight_(kg)                   308695 non-null  float64\n",
      " 3   BMI                           308695 non-null  float64\n",
      " 4   Alcohol_Consumption           308695 non-null  float64\n",
      " 5   Fruit_Consumption             308695 non-null  float64\n",
      " 6   Green_Vegetables_Consumption  308695 non-null  float64\n",
      " 7   FriedPotato_Consumption       308695 non-null  float64\n",
      "dtypes: float64(7), int64(1)\n",
      "memory usage: 21.2 MB\n"
     ]
    }
   ],
   "source": [
    "df = df.select_dtypes(exclude = 'object')\n",
    "df.info()"
   ]
  },
  {
   "cell_type": "code",
   "execution_count": 7,
   "id": "a7874fd9",
   "metadata": {},
   "outputs": [],
   "source": [
    "# pisahkan target dan feature \n",
    "y = df['Heart_Disease']\n",
    "X = df.drop(\"Heart_Disease\", axis = 1)\n"
   ]
  },
  {
   "cell_type": "code",
   "execution_count": 22,
   "id": "5c60b8ff",
   "metadata": {},
   "outputs": [
    {
     "name": "stdout",
     "output_type": "stream",
     "text": [
      "<class 'pandas.core.frame.DataFrame'>\n",
      "Int64Index: 308695 entries, 0 to 308853\n",
      "Data columns (total 7 columns):\n",
      " #   Column                        Non-Null Count   Dtype  \n",
      "---  ------                        --------------   -----  \n",
      " 0   Height_(cm)                   308695 non-null  float64\n",
      " 1   Weight_(kg)                   308695 non-null  float64\n",
      " 2   BMI                           308695 non-null  float64\n",
      " 3   Alcohol_Consumption           308695 non-null  float64\n",
      " 4   Fruit_Consumption             308695 non-null  float64\n",
      " 5   Green_Vegetables_Consumption  308695 non-null  float64\n",
      " 6   FriedPotato_Consumption       308695 non-null  float64\n",
      "dtypes: float64(7)\n",
      "memory usage: 18.8 MB\n"
     ]
    }
   ],
   "source": [
    "X.info()"
   ]
  },
  {
   "cell_type": "code",
   "execution_count": 23,
   "id": "45d7f064",
   "metadata": {},
   "outputs": [
    {
     "name": "stdout",
     "output_type": "stream",
     "text": [
      "<class 'pandas.core.series.Series'>\n",
      "Int64Index: 308695 entries, 0 to 308853\n",
      "Series name: Heart_Disease\n",
      "Non-Null Count   Dtype\n",
      "--------------   -----\n",
      "308695 non-null  int64\n",
      "dtypes: int64(1)\n",
      "memory usage: 4.7 MB\n"
     ]
    }
   ],
   "source": [
    "y.info()"
   ]
  },
  {
   "cell_type": "markdown",
   "id": "69d5b81b",
   "metadata": {},
   "source": [
    "### under sampling"
   ]
  },
  {
   "cell_type": "markdown",
   "id": "5c5a881e",
   "metadata": {},
   "source": [
    "### split train, test, val"
   ]
  },
  {
   "cell_type": "code",
   "execution_count": 9,
   "id": "c75dbd7f",
   "metadata": {},
   "outputs": [],
   "source": [
    "from sklearn.model_selection import train_test_split \n",
    "X_train, X_test,y_train,y_test = train_test_split(X,\n",
    "                                                y,\n",
    "                                                test_size = 0.2,\n",
    "                                                random_state = 42)"
   ]
  },
  {
   "cell_type": "code",
   "execution_count": 15,
   "id": "13bdc801",
   "metadata": {},
   "outputs": [
    {
     "data": {
      "text/plain": [
       "0    255290\n",
       "1     22535\n",
       "Name: Heart_Disease, dtype: int64"
      ]
     },
     "execution_count": 15,
     "metadata": {},
     "output_type": "execute_result"
    }
   ],
   "source": [
    "y_train.value_counts()"
   ]
  },
  {
   "cell_type": "code",
   "execution_count": 11,
   "id": "316878d6",
   "metadata": {},
   "outputs": [
    {
     "name": "stdout",
     "output_type": "stream",
     "text": [
      "<class 'pandas.core.frame.DataFrame'>\n",
      "Int64Index: 277825 entries, 301955 to 122020\n",
      "Data columns (total 7 columns):\n",
      " #   Column                        Non-Null Count   Dtype  \n",
      "---  ------                        --------------   -----  \n",
      " 0   Height_(cm)                   277825 non-null  float64\n",
      " 1   Weight_(kg)                   277825 non-null  float64\n",
      " 2   BMI                           277825 non-null  float64\n",
      " 3   Alcohol_Consumption           277825 non-null  float64\n",
      " 4   Fruit_Consumption             277825 non-null  float64\n",
      " 5   Green_Vegetables_Consumption  277825 non-null  float64\n",
      " 6   FriedPotato_Consumption       277825 non-null  float64\n",
      "dtypes: float64(7)\n",
      "memory usage: 17.0 MB\n"
     ]
    }
   ],
   "source": [
    "X_train.info()"
   ]
  },
  {
   "cell_type": "code",
   "execution_count": 12,
   "id": "92e58075",
   "metadata": {},
   "outputs": [
    {
     "name": "stdout",
     "output_type": "stream",
     "text": [
      "<class 'pandas.core.frame.DataFrame'>\n",
      "Int64Index: 30870 entries, 237911 to 9059\n",
      "Data columns (total 7 columns):\n",
      " #   Column                        Non-Null Count  Dtype  \n",
      "---  ------                        --------------  -----  \n",
      " 0   Height_(cm)                   30870 non-null  float64\n",
      " 1   Weight_(kg)                   30870 non-null  float64\n",
      " 2   BMI                           30870 non-null  float64\n",
      " 3   Alcohol_Consumption           30870 non-null  float64\n",
      " 4   Fruit_Consumption             30870 non-null  float64\n",
      " 5   Green_Vegetables_Consumption  30870 non-null  float64\n",
      " 6   FriedPotato_Consumption       30870 non-null  float64\n",
      "dtypes: float64(7)\n",
      "memory usage: 1.9 MB\n"
     ]
    }
   ],
   "source": [
    "X_test.info()"
   ]
  },
  {
   "cell_type": "code",
   "execution_count": 14,
   "id": "9d015285",
   "metadata": {},
   "outputs": [
    {
     "data": {
      "text/plain": [
       "0    28434\n",
       "1     2436\n",
       "Name: Heart_Disease, dtype: int64"
      ]
     },
     "execution_count": 14,
     "metadata": {},
     "output_type": "execute_result"
    }
   ],
   "source": [
    "y_test.value_counts()"
   ]
  },
  {
   "cell_type": "code",
   "execution_count": 10,
   "id": "20224efd",
   "metadata": {},
   "outputs": [],
   "source": [
    "from imblearn import under_sampling\n",
    "X_under, y_under = under_sampling.RandomUnderSampler(sampling_strategy = 0.8).fit_resample(X_train, y_train)\n",
    "\n",
    "from imblearn import over_sampling\n",
    "\n",
    "# Overampling with smote\n",
    "X_over_smote, y_over_smote = over_sampling.SMOTE().fit_resample(X_train, y_train)"
   ]
  },
  {
   "cell_type": "code",
   "execution_count": 17,
   "id": "2f68001b",
   "metadata": {},
   "outputs": [
    {
     "data": {
      "text/plain": [
       "0    255290\n",
       "1    255290\n",
       "Name: Heart_Disease, dtype: int64"
      ]
     },
     "execution_count": 17,
     "metadata": {},
     "output_type": "execute_result"
    }
   ],
   "source": [
    "y_over_smote.value_counts()"
   ]
  },
  {
   "cell_type": "code",
   "execution_count": 18,
   "id": "f835751c",
   "metadata": {},
   "outputs": [
    {
     "name": "stdout",
     "output_type": "stream",
     "text": [
      "<class 'pandas.core.frame.DataFrame'>\n",
      "RangeIndex: 510580 entries, 0 to 510579\n",
      "Data columns (total 7 columns):\n",
      " #   Column                        Non-Null Count   Dtype  \n",
      "---  ------                        --------------   -----  \n",
      " 0   Height_(cm)                   510580 non-null  float64\n",
      " 1   Weight_(kg)                   510580 non-null  float64\n",
      " 2   BMI                           510580 non-null  float64\n",
      " 3   Alcohol_Consumption           510580 non-null  float64\n",
      " 4   Fruit_Consumption             510580 non-null  float64\n",
      " 5   Green_Vegetables_Consumption  510580 non-null  float64\n",
      " 6   FriedPotato_Consumption       510580 non-null  float64\n",
      "dtypes: float64(7)\n",
      "memory usage: 27.3 MB\n"
     ]
    }
   ],
   "source": [
    "X_over_smote.info()"
   ]
  },
  {
   "cell_type": "code",
   "execution_count": 42,
   "id": "aa5490a8",
   "metadata": {},
   "outputs": [
    {
     "name": "stdout",
     "output_type": "stream",
     "text": [
      "<class 'pandas.core.frame.DataFrame'>\n",
      "RangeIndex: 54727 entries, 0 to 54726\n",
      "Data columns (total 7 columns):\n",
      " #   Column                        Non-Null Count  Dtype  \n",
      "---  ------                        --------------  -----  \n",
      " 0   Height_(cm)                   54727 non-null  float64\n",
      " 1   Weight_(kg)                   54727 non-null  float64\n",
      " 2   BMI                           54727 non-null  float64\n",
      " 3   Alcohol_Consumption           54727 non-null  float64\n",
      " 4   Fruit_Consumption             54727 non-null  float64\n",
      " 5   Green_Vegetables_Consumption  54727 non-null  float64\n",
      " 6   FriedPotato_Consumption       54727 non-null  float64\n",
      "dtypes: float64(7)\n",
      "memory usage: 2.9 MB\n"
     ]
    }
   ],
   "source": [
    "X_under.info()"
   ]
  },
  {
   "cell_type": "code",
   "execution_count": 41,
   "id": "b2836450",
   "metadata": {},
   "outputs": [
    {
     "data": {
      "text/plain": [
       "0    32192\n",
       "1    22535\n",
       "Name: Heart_Disease, dtype: int64"
      ]
     },
     "execution_count": 41,
     "metadata": {},
     "output_type": "execute_result"
    }
   ],
   "source": [
    "y_under.value_counts()"
   ]
  },
  {
   "cell_type": "markdown",
   "id": "b0f8673a",
   "metadata": {},
   "source": [
    "# Modeling with KNN"
   ]
  },
  {
   "cell_type": "code",
   "execution_count": 11,
   "id": "9c7a5fbb",
   "metadata": {},
   "outputs": [
    {
     "data": {
      "text/plain": [
       "KNeighborsClassifier()"
      ]
     },
     "execution_count": 11,
     "metadata": {},
     "output_type": "execute_result"
    }
   ],
   "source": [
    "''' Modeling menggunakan KNN'''\n",
    "\n",
    "from sklearn.neighbors import KNeighborsClassifier\n",
    "\n",
    "knn = KNeighborsClassifier()\n",
    "knn.fit(X_under, y_under)"
   ]
  },
  {
   "cell_type": "code",
   "execution_count": 12,
   "id": "48684d06",
   "metadata": {},
   "outputs": [
    {
     "name": "stdout",
     "output_type": "stream",
     "text": [
      "              precision    recall  f1-score   support\n",
      "\n",
      "           0   0.724463  0.766635  0.744952     24978\n",
      "           1   0.685412  0.635540  0.659535     19983\n",
      "\n",
      "    accuracy                       0.708369     44961\n",
      "   macro avg   0.704937  0.701087  0.702244     44961\n",
      "weighted avg   0.707107  0.708369  0.706988     44961\n",
      "\n"
     ]
    }
   ],
   "source": [
    "from sklearn.metrics import roc_auc_score, classification_report, f1_score\n",
    "y_pred_train = knn.predict(X_under)\n",
    "print(classification_report(y_under, y_pred_train, digits=6))"
   ]
  },
  {
   "cell_type": "code",
   "execution_count": 13,
   "id": "f3d9bd82",
   "metadata": {},
   "outputs": [
    {
     "name": "stdout",
     "output_type": "stream",
     "text": [
      "              precision    recall  f1-score   support\n",
      "\n",
      "           0   0.927605  0.623143  0.745486     56751\n",
      "           1   0.094347  0.446672  0.155788      4988\n",
      "\n",
      "    accuracy                       0.608886     61739\n",
      "   macro avg   0.510976  0.534908  0.450637     61739\n",
      "weighted avg   0.860284  0.608886  0.697843     61739\n",
      "\n"
     ]
    }
   ],
   "source": [
    "y_pred_test = knn.predict(X_test)\n",
    "print(classification_report(y_test, y_pred_test, digits=6))"
   ]
  },
  {
   "cell_type": "markdown",
   "id": "6f72c535",
   "metadata": {},
   "source": [
    "# Modeling with Logistic Regression"
   ]
  },
  {
   "cell_type": "code",
   "execution_count": 14,
   "id": "aec1f6aa",
   "metadata": {},
   "outputs": [],
   "source": [
    "'''Modeling menggunakan Logreg'''\n",
    "\n",
    "from sklearn.linear_model import LogisticRegression\n",
    "\n",
    "logreg = LogisticRegression(random_state=42)\n",
    "logreg.fit(X_under, y_under)\n",
    "y_pred_train_log = logreg.predict(X_under)"
   ]
  },
  {
   "cell_type": "code",
   "execution_count": 15,
   "id": "7b82617a",
   "metadata": {},
   "outputs": [
    {
     "name": "stdout",
     "output_type": "stream",
     "text": [
      "              precision    recall  f1-score   support\n",
      "\n",
      "           0   0.571485  0.876171  0.691764     24978\n",
      "           1   0.536004  0.178802  0.268153     19983\n",
      "\n",
      "    accuracy                       0.566224     44961\n",
      "   macro avg   0.553744  0.527487  0.479958     44961\n",
      "weighted avg   0.555715  0.566224  0.503489     44961\n",
      "\n"
     ]
    }
   ],
   "source": [
    "print(classification_report(y_under, y_pred_train_log, digits=6))"
   ]
  },
  {
   "cell_type": "code",
   "execution_count": 16,
   "id": "344b5f2e",
   "metadata": {},
   "outputs": [
    {
     "name": "stdout",
     "output_type": "stream",
     "text": [
      "              precision    recall  f1-score   support\n",
      "\n",
      "           0       0.92      0.88      0.90     56751\n",
      "           1       0.11      0.17      0.13      4988\n",
      "\n",
      "    accuracy                           0.82     61739\n",
      "   macro avg       0.52      0.52      0.52     61739\n",
      "weighted avg       0.86      0.82      0.84     61739\n",
      "\n"
     ]
    }
   ],
   "source": [
    "y_pred_test_log = logreg.predict(X_test)\n",
    "print(classification_report(y_test,y_pred_test_log))"
   ]
  },
  {
   "cell_type": "markdown",
   "id": "f95c9f97",
   "metadata": {},
   "source": [
    "# Modeling with Decision Tree"
   ]
  },
  {
   "cell_type": "code",
   "execution_count": 17,
   "id": "403db0d6",
   "metadata": {},
   "outputs": [],
   "source": [
    "'''modeling menggunakan decision tree'''\n",
    "\n",
    "from sklearn.tree import DecisionTreeClassifier\n",
    "\n",
    "dt = DecisionTreeClassifier(random_state=42)\n",
    "dt.fit(X_under, y_under)\n",
    "y_pred_train_dt = dt.predict(X_under)"
   ]
  },
  {
   "cell_type": "code",
   "execution_count": null,
   "id": "3e0389d7",
   "metadata": {},
   "outputs": [],
   "source": [
    "from sklearn.model_selection import RandomizedSearchCV\n",
    "\n",
    "parameters = {\n",
    "    'n_estimators': (10,20,30,40,50),\n",
    "    'max_depth':(1,2,3,4,5)\n",
    "}\n",
    "\n",
    "rf_clf_randomcv = RandomizedSearchCV(rf_clf, parameters, cv=5, \n",
    "                                     scoring='recall', n_iter=10)\n",
    "rf_clf_randomcv.fit(X_under, y_under)"
   ]
  },
  {
   "cell_type": "code",
   "execution_count": 18,
   "id": "60dec604",
   "metadata": {},
   "outputs": [
    {
     "name": "stdout",
     "output_type": "stream",
     "text": [
      "              precision    recall  f1-score   support\n",
      "\n",
      "           0       0.98      1.00      0.99     24978\n",
      "           1       1.00      0.98      0.99     19983\n",
      "\n",
      "    accuracy                           0.99     44961\n",
      "   macro avg       0.99      0.99      0.99     44961\n",
      "weighted avg       0.99      0.99      0.99     44961\n",
      "\n"
     ]
    }
   ],
   "source": [
    "print(classification_report(y_under,y_pred_train_dt))"
   ]
  },
  {
   "cell_type": "code",
   "execution_count": 19,
   "id": "71eba750",
   "metadata": {},
   "outputs": [
    {
     "name": "stdout",
     "output_type": "stream",
     "text": [
      "              precision    recall  f1-score   support\n",
      "\n",
      "           0       0.93      0.58      0.71     56751\n",
      "           1       0.09      0.47      0.15      4988\n",
      "\n",
      "    accuracy                           0.57     61739\n",
      "   macro avg       0.51      0.52      0.43     61739\n",
      "weighted avg       0.86      0.57      0.67     61739\n",
      "\n"
     ]
    }
   ],
   "source": [
    "y_pred_test_dt = dt.predict(X_test)\n",
    "print(classification_report(y_test,y_pred_test_dt))"
   ]
  },
  {
   "cell_type": "markdown",
   "id": "e023d98c",
   "metadata": {},
   "source": [
    "# RandomForest"
   ]
  },
  {
   "cell_type": "code",
   "execution_count": 22,
   "id": "14b8eda9",
   "metadata": {},
   "outputs": [
    {
     "data": {
      "text/plain": [
       "RandomForestClassifier()"
      ]
     },
     "execution_count": 22,
     "metadata": {},
     "output_type": "execute_result"
    }
   ],
   "source": [
    "'''modeling menggunakan random forest '''\n",
    "\n",
    "from sklearn.ensemble import RandomForestClassifier\n",
    "\n",
    "rf = RandomForestClassifier()\n",
    "rf.fit(X_under,y_under)"
   ]
  },
  {
   "cell_type": "code",
   "execution_count": 47,
   "id": "fa76810f",
   "metadata": {},
   "outputs": [
    {
     "data": {
      "text/plain": [
       "RandomizedSearchCV(cv=5, estimator=RandomForestClassifier(),\n",
       "                   param_distributions={'max_depth': (1, 2, 3, 4, 5),\n",
       "                                        'n_estimators': (10, 20, 30, 40, 50)},\n",
       "                   scoring='recall')"
      ]
     },
     "execution_count": 47,
     "metadata": {},
     "output_type": "execute_result"
    }
   ],
   "source": [
    "from sklearn.model_selection import RandomizedSearchCV\n",
    "\n",
    "parameters = {\n",
    "    'n_estimators': (10,20,30,40,50),\n",
    "    'max_depth':(1,2,3,4,5)\n",
    "}\n",
    "\n",
    "rf_clf_randomcv = RandomizedSearchCV(rf, parameters, cv=5, \n",
    "                                     scoring='recall', n_iter=10)\n",
    "rf_clf_randomcv.fit(X_under, y_under)"
   ]
  },
  {
   "cell_type": "code",
   "execution_count": 51,
   "id": "ab2140f1",
   "metadata": {},
   "outputs": [
    {
     "data": {
      "text/html": [
       "<div>\n",
       "<style scoped>\n",
       "    .dataframe tbody tr th:only-of-type {\n",
       "        vertical-align: middle;\n",
       "    }\n",
       "\n",
       "    .dataframe tbody tr th {\n",
       "        vertical-align: top;\n",
       "    }\n",
       "\n",
       "    .dataframe thead th {\n",
       "        text-align: right;\n",
       "    }\n",
       "</style>\n",
       "<table border=\"1\" class=\"dataframe\">\n",
       "  <thead>\n",
       "    <tr style=\"text-align: right;\">\n",
       "      <th></th>\n",
       "      <th>params</th>\n",
       "      <th>mean_test_score</th>\n",
       "      <th>rank_test_score</th>\n",
       "    </tr>\n",
       "  </thead>\n",
       "  <tbody>\n",
       "    <tr>\n",
       "      <th>0</th>\n",
       "      <td>{'n_estimators': 20, 'max_depth': 5}</td>\n",
       "      <td>0.0004</td>\n",
       "      <td>1</td>\n",
       "    </tr>\n",
       "    <tr>\n",
       "      <th>5</th>\n",
       "      <td>{'n_estimators': 10, 'max_depth': 5}</td>\n",
       "      <td>0.0004</td>\n",
       "      <td>2</td>\n",
       "    </tr>\n",
       "    <tr>\n",
       "      <th>1</th>\n",
       "      <td>{'n_estimators': 40, 'max_depth': 3}</td>\n",
       "      <td>0.0000</td>\n",
       "      <td>3</td>\n",
       "    </tr>\n",
       "    <tr>\n",
       "      <th>2</th>\n",
       "      <td>{'n_estimators': 50, 'max_depth': 4}</td>\n",
       "      <td>0.0000</td>\n",
       "      <td>3</td>\n",
       "    </tr>\n",
       "    <tr>\n",
       "      <th>3</th>\n",
       "      <td>{'n_estimators': 20, 'max_depth': 2}</td>\n",
       "      <td>0.0000</td>\n",
       "      <td>3</td>\n",
       "    </tr>\n",
       "    <tr>\n",
       "      <th>4</th>\n",
       "      <td>{'n_estimators': 50, 'max_depth': 2}</td>\n",
       "      <td>0.0000</td>\n",
       "      <td>3</td>\n",
       "    </tr>\n",
       "    <tr>\n",
       "      <th>6</th>\n",
       "      <td>{'n_estimators': 50, 'max_depth': 1}</td>\n",
       "      <td>0.0000</td>\n",
       "      <td>3</td>\n",
       "    </tr>\n",
       "    <tr>\n",
       "      <th>7</th>\n",
       "      <td>{'n_estimators': 20, 'max_depth': 3}</td>\n",
       "      <td>0.0000</td>\n",
       "      <td>3</td>\n",
       "    </tr>\n",
       "    <tr>\n",
       "      <th>8</th>\n",
       "      <td>{'n_estimators': 10, 'max_depth': 2}</td>\n",
       "      <td>0.0000</td>\n",
       "      <td>3</td>\n",
       "    </tr>\n",
       "    <tr>\n",
       "      <th>9</th>\n",
       "      <td>{'n_estimators': 30, 'max_depth': 3}</td>\n",
       "      <td>0.0000</td>\n",
       "      <td>3</td>\n",
       "    </tr>\n",
       "  </tbody>\n",
       "</table>\n",
       "</div>"
      ],
      "text/plain": [
       "                                 params  mean_test_score  rank_test_score\n",
       "0  {'n_estimators': 20, 'max_depth': 5}           0.0004                1\n",
       "5  {'n_estimators': 10, 'max_depth': 5}           0.0004                2\n",
       "1  {'n_estimators': 40, 'max_depth': 3}           0.0000                3\n",
       "2  {'n_estimators': 50, 'max_depth': 4}           0.0000                3\n",
       "3  {'n_estimators': 20, 'max_depth': 2}           0.0000                3\n",
       "4  {'n_estimators': 50, 'max_depth': 2}           0.0000                3\n",
       "6  {'n_estimators': 50, 'max_depth': 1}           0.0000                3\n",
       "7  {'n_estimators': 20, 'max_depth': 3}           0.0000                3\n",
       "8  {'n_estimators': 10, 'max_depth': 2}           0.0000                3\n",
       "9  {'n_estimators': 30, 'max_depth': 3}           0.0000                3"
      ]
     },
     "execution_count": 51,
     "metadata": {},
     "output_type": "execute_result"
    }
   ],
   "source": [
    "cv_result = pd.DataFrame(rf_clf_randomcv.cv_results_)\n",
    "retain_cols = ['params','mean_test_score','rank_test_score']\n",
    "cv_result[retain_cols].sort_values('rank_test_score')"
   ]
  },
  {
   "cell_type": "code",
   "execution_count": 23,
   "id": "47706017",
   "metadata": {},
   "outputs": [
    {
     "name": "stdout",
     "output_type": "stream",
     "text": [
      "              precision    recall  f1-score   support\n",
      "\n",
      "           0       0.99      0.99      0.99     24978\n",
      "           1       0.99      0.99      0.99     19983\n",
      "\n",
      "    accuracy                           0.99     44961\n",
      "   macro avg       0.99      0.99      0.99     44961\n",
      "weighted avg       0.99      0.99      0.99     44961\n",
      "\n"
     ]
    }
   ],
   "source": [
    "y_pred_train = rf.predict(X_under)\n",
    "print(classification_report(y_under,y_pred_train))"
   ]
  },
  {
   "cell_type": "code",
   "execution_count": 26,
   "id": "f3b9f4db",
   "metadata": {},
   "outputs": [
    {
     "name": "stdout",
     "output_type": "stream",
     "text": [
      "              precision    recall  f1-score   support\n",
      "\n",
      "           0       0.93      0.68      0.78     56751\n",
      "           1       0.10      0.43      0.17      4988\n",
      "\n",
      "    accuracy                           0.66     61739\n",
      "   macro avg       0.52      0.55      0.48     61739\n",
      "weighted avg       0.86      0.66      0.73     61739\n",
      "\n"
     ]
    }
   ],
   "source": [
    "y_pred_test = rf.predict(X_test)\n",
    "print(classification_report(y_test,y_pred_test))"
   ]
  },
  {
   "cell_type": "code",
   "execution_count": 20,
   "id": "87588892",
   "metadata": {},
   "outputs": [
    {
     "name": "stdout",
     "output_type": "stream",
     "text": [
      "              precision    recall  f1-score   support\n",
      "\n",
      "           0       0.63      0.74      0.68     24978\n",
      "           1       0.58      0.45      0.50     19983\n",
      "\n",
      "    accuracy                           0.61     44961\n",
      "   macro avg       0.60      0.59      0.59     44961\n",
      "weighted avg       0.60      0.61      0.60     44961\n",
      "\n"
     ]
    }
   ],
   "source": [
    "'''modeling menggunakan Xgboost '''\n",
    "from sklearn.ensemble import GradientBoostingClassifier\n",
    "\n",
    "xgd = GradientBoostingClassifier()\n",
    "xgd.fit(X_under, y_under)\n",
    "y_pred_xgd = xgd.predict(X_under)\n",
    "print(classification_report(y_under,y_pred_xgd))"
   ]
  },
  {
   "cell_type": "code",
   "execution_count": 21,
   "id": "a4bc2d70",
   "metadata": {},
   "outputs": [
    {
     "name": "stdout",
     "output_type": "stream",
     "text": [
      "              precision    recall  f1-score   support\n",
      "\n",
      "           0       0.94      0.74      0.82     56751\n",
      "           1       0.12      0.42      0.19      4988\n",
      "\n",
      "    accuracy                           0.71     61739\n",
      "   macro avg       0.53      0.58      0.51     61739\n",
      "weighted avg       0.87      0.71      0.77     61739\n",
      "\n"
     ]
    }
   ],
   "source": [
    "y_val_xgd = xgd.predict(X_test)\n",
    "print(classification_report(y_test,y_val_xgd))"
   ]
  },
  {
   "cell_type": "markdown",
   "id": "ef4b843b",
   "metadata": {},
   "source": [
    "hasil baseline :\n",
    "1. data yang ditrain dan test adalah data yang sudah di undersampling\n",
    "2. data yang menjadi validasi akhir adalah data yang sudang dipisahkan untuk validaiton\n",
    "3. karena menggunakan metrik recall, dari hasil pengujian nilai recall tertinggi ada pada model random forest yaitu sebesar 0.78 untuk memprediksi target sakit cardiovascular. patokan best model dari hasil prediksi x_val "
   ]
  }
 ],
 "metadata": {
  "kernelspec": {
   "display_name": "Python 3 (ipykernel)",
   "language": "python",
   "name": "python3"
  },
  "language_info": {
   "codemirror_mode": {
    "name": "ipython",
    "version": 3
   },
   "file_extension": ".py",
   "mimetype": "text/x-python",
   "name": "python",
   "nbconvert_exporter": "python",
   "pygments_lexer": "ipython3",
   "version": "3.9.13"
  }
 },
 "nbformat": 4,
 "nbformat_minor": 5
}
